{
 "cells": [
  {
   "cell_type": "markdown",
   "id": "0b02a36b-dc87-4b37-aca4-d0990fbf854f",
   "metadata": {
    "tags": []
   },
   "source": [
    "<h1>Data Science Tools and Ecosystem<h1>"
   ]
  },
  {
   "cell_type": "markdown",
   "id": "d06fd80b-9257-4f8e-ba80-8f348abc6799",
   "metadata": {},
   "source": [
    "In this notebook, Data Science Tools and Ecosystem are summarized."
   ]
  },
  {
   "cell_type": "markdown",
   "id": "c707567c-97cf-437b-9096-8b4c970bea68",
   "metadata": {},
   "source": [
    "<b>Objectives:<b>\n",
    "* List of popular languages for Data Science\n",
    "* List of commonly used libraries for Data Science\n",
    "* Creation of table\n",
    "* Use of headings"
   ]
  },
  {
   "cell_type": "markdown",
   "id": "c8d99325-b00a-416c-be99-eec531db4001",
   "metadata": {},
   "source": [
    "Some of the popular languages that Data Scientists use are:\n",
    "1. Python\n",
    "1. R\n",
    "1. SQL\n"
   ]
  },
  {
   "cell_type": "markdown",
   "id": "c01a4632-3271-4373-866e-457d08b3be01",
   "metadata": {},
   "source": [
    "Some of the commonly used libraries used by Data Scientists include:\n",
    "1. Pandas\n",
    "1. Keras\n",
    "1. TensorFlow"
   ]
  },
  {
   "cell_type": "markdown",
   "id": "eda655d6-df22-4b99-bfa9-ae2d9935a30d",
   "metadata": {},
   "source": [
    "|Data Science Tools|\n",
    "|----|\n",
    "|MySQL|\n",
    "|Apache Superset|\n",
    "|KubeFlow|"
   ]
  },
  {
   "cell_type": "markdown",
   "id": "41b2007e-d6b7-44c2-8ec4-27083e982c8e",
   "metadata": {
    "tags": []
   },
   "source": [
    "<h3>Below are a few examples of evaluating arithmetic expressions in Python<h3>"
   ]
  },
  {
   "cell_type": "code",
   "execution_count": 2,
   "id": "e483e0ec-ba4c-4156-812a-8d7637393d31",
   "metadata": {
    "tags": []
   },
   "outputs": [
    {
     "data": {
      "text/plain": [
       "17"
      ]
     },
     "execution_count": 2,
     "metadata": {},
     "output_type": "execute_result"
    }
   ],
   "source": [
    "# This is a simple arithmetic expression to multiply then add integers.\n",
    "result = (3*4)+5\n",
    "result"
   ]
  },
  {
   "cell_type": "code",
   "execution_count": 9,
   "id": "dbc73d9b-75a7-471c-8c73-fda4440a7ed2",
   "metadata": {
    "tags": []
   },
   "outputs": [
    {
     "data": {
      "text/plain": [
       "3.3333333333333335"
      ]
     },
     "execution_count": 9,
     "metadata": {},
     "output_type": "execute_result"
    }
   ],
   "source": [
    "# This will convert 200 minutes to hours by diving by 60\n",
    "b = 200/60\n",
    "b"
   ]
  },
  {
   "cell_type": "markdown",
   "id": "5eada778-83a1-480f-960a-4be743cd342b",
   "metadata": {},
   "source": [
    "<h2>Author<h2> \n",
    "    \n",
    "Edvards Snepsts"
   ]
  },
  {
   "cell_type": "code",
   "execution_count": null,
   "id": "6d7b74c5-d2be-4040-8f7e-88d300db66d9",
   "metadata": {},
   "outputs": [],
   "source": []
  }
 ],
 "metadata": {
  "kernelspec": {
   "display_name": "Python",
   "language": "python",
   "name": "conda-env-python-py"
  },
  "language_info": {
   "codemirror_mode": {
    "name": "ipython",
    "version": 3
   },
   "file_extension": ".py",
   "mimetype": "text/x-python",
   "name": "python",
   "nbconvert_exporter": "python",
   "pygments_lexer": "ipython3",
   "version": "3.7.12"
  }
 },
 "nbformat": 4,
 "nbformat_minor": 5
}
